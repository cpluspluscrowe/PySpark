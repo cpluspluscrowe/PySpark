{
 "cells": [
  {
   "cell_type": "code",
   "execution_count": 10,
   "metadata": {},
   "outputs": [
    {
     "ename": "",
     "evalue": "",
     "execution_count": 10,
     "output_type": "error",
     "status": "error",
     "traceback": [
      "\u001b[31morg.apache.spark.SparkException: Only one SparkContext may be running in this JVM (see SPARK-2243). To ignore this error, set spark.driver.allowMultipleContexts = true. The currently running SparkContext was created at:",
      "org.apache.spark.SparkContext.<init>(SparkContext.scala:76)",
      "$sess.cmd0Wrapper$Helper.<init>(cmd0.sc:12)",
      "$sess.cmd0Wrapper.<init>(cmd0.sc:121)",
      "$sess.cmd0$.<init>(cmd0.sc:60)",
      "$sess.cmd0$.<clinit>(cmd0.sc)",
      "$sess.cmd0.$main(cmd0.sc)",
      "sun.reflect.NativeMethodAccessorImpl.invoke0(Native Method)",
      "sun.reflect.NativeMethodAccessorImpl.invoke(NativeMethodAccessorImpl.java:62)",
      "sun.reflect.DelegatingMethodAccessorImpl.invoke(DelegatingMethodAccessorImpl.java:43)",
      "java.lang.reflect.Method.invoke(Method.java:498)",
      "ammonite.runtime.EvaluatorImpl.evalMain(Evaluator.scala:112)",
      "ammonite.runtime.EvaluatorImpl$$anonfun$processLine$2$$anonfun$apply$5$$anonfun$4.apply(Evaluator.scala:150)",
      "ammonite.runtime.Evaluator$.evaluatorRunPrinter(Evaluator.scala:233)",
      "ammonite.runtime.EvaluatorImpl$$anonfun$processLine$2$$anonfun$apply$5.apply(Evaluator.scala:150)",
      "ammonite.runtime.EvaluatorImpl$$anonfun$processLine$2$$anonfun$apply$5.apply(Evaluator.scala:146)",
      "ammonite.util.Catching.map(Res.scala:111)",
      "ammonite.runtime.EvaluatorImpl$$anonfun$processLine$2.apply(Evaluator.scala:146)",
      "ammonite.runtime.EvaluatorImpl$$anonfun$processLine$2.apply(Evaluator.scala:144)",
      "ammonite.util.Res$Success.flatMap(Res.scala:58)",
      "ammonite.runtime.EvaluatorImpl.processLine(Evaluator.scala:144)\u001b[39m",
      "  org.apache.spark.SparkContext$$anonfun$assertNoOtherContextIsRunning$2.apply(\u001b[32mSparkContext.scala\u001b[39m:\u001b[32m2278\u001b[39m)",
      "  org.apache.spark.SparkContext$$anonfun$assertNoOtherContextIsRunning$2.apply(\u001b[32mSparkContext.scala\u001b[39m:\u001b[32m2274\u001b[39m)",
      "  scala.Option.foreach(\u001b[32mOption.scala\u001b[39m:\u001b[32m257\u001b[39m)",
      "  org.apache.spark.SparkContext$.assertNoOtherContextIsRunning(\u001b[32mSparkContext.scala\u001b[39m:\u001b[32m2274\u001b[39m)",
      "  org.apache.spark.SparkContext$.markPartiallyConstructed(\u001b[32mSparkContext.scala\u001b[39m:\u001b[32m2353\u001b[39m)",
      "  org.apache.spark.SparkContext.<init>(\u001b[32mSparkContext.scala\u001b[39m:\u001b[32m85\u001b[39m)",
      "  $sess.cmd9Wrapper$Helper.<init>(\u001b[32mcmd9.sc\u001b[39m:\u001b[32m12\u001b[39m)",
      "  $sess.cmd9Wrapper.<init>(\u001b[32mcmd9.sc\u001b[39m:\u001b[32m360\u001b[39m)",
      "  $sess.cmd9$.<init>(\u001b[32mcmd9.sc\u001b[39m:\u001b[32m286\u001b[39m)",
      "  $sess.cmd9$.<clinit>(\u001b[32mcmd9.sc\u001b[39m:\u001b[32m-1\u001b[39m)"
     ]
    }
   ],
   "source": [
    "import $exclude.`org.slf4j:slf4j-log4j12`, $ivy.`org.slf4j:slf4j-nop:1.7.21` // for cleaner logs\n",
    "import $profile.`hadoop-2.6`\n",
    "import $ivy.`org.apache.spark::spark-sql:2.1.0` // adjust spark version - spark >= 2.0\n",
    "import $ivy.`org.apache.hadoop:hadoop-aws:2.6.4`\n",
    "import $ivy.`org.jupyter-scala::spark:0.4.2` // for JupyterSparkSession (SparkSession aware of the jupyter-scala kernel)\n",
    "\n",
    "import org.apache.spark._\n",
    "import org.apache.spark.sql._\n",
    "import jupyter.spark.session._\n",
    "\n",
    "val conf = new SparkConf().setAppName(\"Samples\").setMaster(\"local\")\n",
    "val sc = new SparkContext(conf)"
   ]
  },
  {
   "cell_type": "code",
   "execution_count": 10,
   "metadata": {},
   "outputs": [
    {
     "name": "stderr",
     "output_type": "stream",
     "text": [
      "cmd10.sc:6: not found: value spark\n",
      "val points = spark.createDataFrame(Seq(\n",
      "             ^"
     ]
    },
    {
     "ename": "",
     "evalue": "",
     "execution_count": 10,
     "output_type": "error",
     "status": "error",
     "traceback": [
      "Compilation Failed"
     ]
    }
   ],
   "source": [
    "import $ivy.`org.apache.spark::spark-mllib:2.1.0`\n",
    "import org.apache.spark.mllib.fpm.PrefixSpan\n",
    "import org.apache.spark.ml.linalg.Vectors\n",
    "import org.apache.spark.ml.regression.LinearRegression\n",
    "import org.apache.spark.sql.types._\n",
    "val points = spark.createDataFrame(Seq(\n",
    "  (1620000,Vectors.dense(2100)),\n",
    "  (1690000,Vectors.dense(2300)),\n",
    "  (1400000,Vectors.dense(2046)),\n",
    "  (2000000,Vectors.dense(4314)),\n",
    "  (1060000,Vectors.dense(1244)),\n",
    "  (3830000,Vectors.dense(4608)),\n",
    "  (1230000,Vectors.dense(2173)),\n",
    "  (2400000,Vectors.dense(2750)),\n",
    "  (3380000,Vectors.dense(4010)),\n",
    "  (1480000,Vectors.dense(1959))\n",
    "  )).toDF(\"label\",\"features\")"
   ]
  },
  {
   "cell_type": "code",
   "execution_count": null,
   "metadata": {},
   "outputs": [],
   "source": []
  }
 ],
 "metadata": {
  "kernelspec": {
   "display_name": "Scala",
   "language": "scala",
   "name": "scala"
  },
  "language_info": {
   "codemirror_mode": "text/x-scala",
   "file_extension": ".scala",
   "mimetype": "text/x-scala",
   "name": "scala211",
   "nbconvert_exporter": "script",
   "pygments_lexer": "scala",
   "version": "2.11.11"
  }
 },
 "nbformat": 4,
 "nbformat_minor": 2
}
